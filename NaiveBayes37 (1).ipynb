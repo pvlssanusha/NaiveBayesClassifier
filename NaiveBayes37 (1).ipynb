{
  "nbformat": 4,
  "nbformat_minor": 0,
  "metadata": {
    "colab": {
      "provenance": []
    },
    "kernelspec": {
      "name": "python3",
      "display_name": "Python 3"
    },
    "language_info": {
      "name": "python"
    }
  },
  "cells": [
    {
      "cell_type": "code",
      "execution_count": 299,
      "metadata": {
        "id": "W75evEYKBeC6"
      },
      "outputs": [],
      "source": [
        "import numpy as np\n",
        "import pandas as pd"
      ]
    },
    {
      "cell_type": "code",
      "source": [
        "from google.colab import drive\n",
        "drive.mount('/content/drive')"
      ],
      "metadata": {
        "colab": {
          "base_uri": "https://localhost:8080/"
        },
        "id": "nm1J2fAaCGkT",
        "outputId": "b9760622-c4a8-4a7a-f9f2-16ddb0ccc764"
      },
      "execution_count": 300,
      "outputs": [
        {
          "output_type": "stream",
          "name": "stdout",
          "text": [
            "Drive already mounted at /content/drive; to attempt to forcibly remount, call drive.mount(\"/content/drive\", force_remount=True).\n"
          ]
        }
      ]
    },
    {
      "cell_type": "code",
      "source": [
        "x=pd.read_csv(\"/content/drive/MyDrive/tennis.csv\")\n",
        "x"
      ],
      "metadata": {
        "colab": {
          "base_uri": "https://localhost:8080/",
          "height": 488
        },
        "id": "y_8Qf-l-F-Ta",
        "outputId": "d904f8e4-8146-4f6e-e6b5-9829154ee1ab"
      },
      "execution_count": 301,
      "outputs": [
        {
          "output_type": "execute_result",
          "data": {
            "text/plain": [
              "     outlook  temp humidity    wind play\n",
              "0      Sunny   Hot     High    Weak   No\n",
              "1      Sunny   Hot     High  Strong   No\n",
              "2   Overcast   Hot     High    Weak  Yes\n",
              "3       Rain  Mild     High    Weak  Yes\n",
              "4       Rain  Cool   Normal    Weak  Yes\n",
              "5       Rain  Cool   Normal  Strong   No\n",
              "6   Overcast  Cool   Normal  Strong  Yes\n",
              "7      Sunny  Mild     High    Weak   No\n",
              "8      Sunny  Cool   Normal    Weak  Yes\n",
              "9       Rain  Mild   Normal    Weak  Yes\n",
              "10     Sunny  Mild   Normal  Strong  Yes\n",
              "11  Overcast  Mild     High  Strong  Yes\n",
              "12  Overcast   Hot   Normal    Weak  Yes\n",
              "13      Rain  Mild     High  Strong   No"
            ],
            "text/html": [
              "\n",
              "  <div id=\"df-27dd6918-56f5-4c13-9f1b-c8a40e555324\">\n",
              "    <div class=\"colab-df-container\">\n",
              "      <div>\n",
              "<style scoped>\n",
              "    .dataframe tbody tr th:only-of-type {\n",
              "        vertical-align: middle;\n",
              "    }\n",
              "\n",
              "    .dataframe tbody tr th {\n",
              "        vertical-align: top;\n",
              "    }\n",
              "\n",
              "    .dataframe thead th {\n",
              "        text-align: right;\n",
              "    }\n",
              "</style>\n",
              "<table border=\"1\" class=\"dataframe\">\n",
              "  <thead>\n",
              "    <tr style=\"text-align: right;\">\n",
              "      <th></th>\n",
              "      <th>outlook</th>\n",
              "      <th>temp</th>\n",
              "      <th>humidity</th>\n",
              "      <th>wind</th>\n",
              "      <th>play</th>\n",
              "    </tr>\n",
              "  </thead>\n",
              "  <tbody>\n",
              "    <tr>\n",
              "      <th>0</th>\n",
              "      <td>Sunny</td>\n",
              "      <td>Hot</td>\n",
              "      <td>High</td>\n",
              "      <td>Weak</td>\n",
              "      <td>No</td>\n",
              "    </tr>\n",
              "    <tr>\n",
              "      <th>1</th>\n",
              "      <td>Sunny</td>\n",
              "      <td>Hot</td>\n",
              "      <td>High</td>\n",
              "      <td>Strong</td>\n",
              "      <td>No</td>\n",
              "    </tr>\n",
              "    <tr>\n",
              "      <th>2</th>\n",
              "      <td>Overcast</td>\n",
              "      <td>Hot</td>\n",
              "      <td>High</td>\n",
              "      <td>Weak</td>\n",
              "      <td>Yes</td>\n",
              "    </tr>\n",
              "    <tr>\n",
              "      <th>3</th>\n",
              "      <td>Rain</td>\n",
              "      <td>Mild</td>\n",
              "      <td>High</td>\n",
              "      <td>Weak</td>\n",
              "      <td>Yes</td>\n",
              "    </tr>\n",
              "    <tr>\n",
              "      <th>4</th>\n",
              "      <td>Rain</td>\n",
              "      <td>Cool</td>\n",
              "      <td>Normal</td>\n",
              "      <td>Weak</td>\n",
              "      <td>Yes</td>\n",
              "    </tr>\n",
              "    <tr>\n",
              "      <th>5</th>\n",
              "      <td>Rain</td>\n",
              "      <td>Cool</td>\n",
              "      <td>Normal</td>\n",
              "      <td>Strong</td>\n",
              "      <td>No</td>\n",
              "    </tr>\n",
              "    <tr>\n",
              "      <th>6</th>\n",
              "      <td>Overcast</td>\n",
              "      <td>Cool</td>\n",
              "      <td>Normal</td>\n",
              "      <td>Strong</td>\n",
              "      <td>Yes</td>\n",
              "    </tr>\n",
              "    <tr>\n",
              "      <th>7</th>\n",
              "      <td>Sunny</td>\n",
              "      <td>Mild</td>\n",
              "      <td>High</td>\n",
              "      <td>Weak</td>\n",
              "      <td>No</td>\n",
              "    </tr>\n",
              "    <tr>\n",
              "      <th>8</th>\n",
              "      <td>Sunny</td>\n",
              "      <td>Cool</td>\n",
              "      <td>Normal</td>\n",
              "      <td>Weak</td>\n",
              "      <td>Yes</td>\n",
              "    </tr>\n",
              "    <tr>\n",
              "      <th>9</th>\n",
              "      <td>Rain</td>\n",
              "      <td>Mild</td>\n",
              "      <td>Normal</td>\n",
              "      <td>Weak</td>\n",
              "      <td>Yes</td>\n",
              "    </tr>\n",
              "    <tr>\n",
              "      <th>10</th>\n",
              "      <td>Sunny</td>\n",
              "      <td>Mild</td>\n",
              "      <td>Normal</td>\n",
              "      <td>Strong</td>\n",
              "      <td>Yes</td>\n",
              "    </tr>\n",
              "    <tr>\n",
              "      <th>11</th>\n",
              "      <td>Overcast</td>\n",
              "      <td>Mild</td>\n",
              "      <td>High</td>\n",
              "      <td>Strong</td>\n",
              "      <td>Yes</td>\n",
              "    </tr>\n",
              "    <tr>\n",
              "      <th>12</th>\n",
              "      <td>Overcast</td>\n",
              "      <td>Hot</td>\n",
              "      <td>Normal</td>\n",
              "      <td>Weak</td>\n",
              "      <td>Yes</td>\n",
              "    </tr>\n",
              "    <tr>\n",
              "      <th>13</th>\n",
              "      <td>Rain</td>\n",
              "      <td>Mild</td>\n",
              "      <td>High</td>\n",
              "      <td>Strong</td>\n",
              "      <td>No</td>\n",
              "    </tr>\n",
              "  </tbody>\n",
              "</table>\n",
              "</div>\n",
              "      <button class=\"colab-df-convert\" onclick=\"convertToInteractive('df-27dd6918-56f5-4c13-9f1b-c8a40e555324')\"\n",
              "              title=\"Convert this dataframe to an interactive table.\"\n",
              "              style=\"display:none;\">\n",
              "        \n",
              "  <svg xmlns=\"http://www.w3.org/2000/svg\" height=\"24px\"viewBox=\"0 0 24 24\"\n",
              "       width=\"24px\">\n",
              "    <path d=\"M0 0h24v24H0V0z\" fill=\"none\"/>\n",
              "    <path d=\"M18.56 5.44l.94 2.06.94-2.06 2.06-.94-2.06-.94-.94-2.06-.94 2.06-2.06.94zm-11 1L8.5 8.5l.94-2.06 2.06-.94-2.06-.94L8.5 2.5l-.94 2.06-2.06.94zm10 10l.94 2.06.94-2.06 2.06-.94-2.06-.94-.94-2.06-.94 2.06-2.06.94z\"/><path d=\"M17.41 7.96l-1.37-1.37c-.4-.4-.92-.59-1.43-.59-.52 0-1.04.2-1.43.59L10.3 9.45l-7.72 7.72c-.78.78-.78 2.05 0 2.83L4 21.41c.39.39.9.59 1.41.59.51 0 1.02-.2 1.41-.59l7.78-7.78 2.81-2.81c.8-.78.8-2.07 0-2.86zM5.41 20L4 18.59l7.72-7.72 1.47 1.35L5.41 20z\"/>\n",
              "  </svg>\n",
              "      </button>\n",
              "      \n",
              "  <style>\n",
              "    .colab-df-container {\n",
              "      display:flex;\n",
              "      flex-wrap:wrap;\n",
              "      gap: 12px;\n",
              "    }\n",
              "\n",
              "    .colab-df-convert {\n",
              "      background-color: #E8F0FE;\n",
              "      border: none;\n",
              "      border-radius: 50%;\n",
              "      cursor: pointer;\n",
              "      display: none;\n",
              "      fill: #1967D2;\n",
              "      height: 32px;\n",
              "      padding: 0 0 0 0;\n",
              "      width: 32px;\n",
              "    }\n",
              "\n",
              "    .colab-df-convert:hover {\n",
              "      background-color: #E2EBFA;\n",
              "      box-shadow: 0px 1px 2px rgba(60, 64, 67, 0.3), 0px 1px 3px 1px rgba(60, 64, 67, 0.15);\n",
              "      fill: #174EA6;\n",
              "    }\n",
              "\n",
              "    [theme=dark] .colab-df-convert {\n",
              "      background-color: #3B4455;\n",
              "      fill: #D2E3FC;\n",
              "    }\n",
              "\n",
              "    [theme=dark] .colab-df-convert:hover {\n",
              "      background-color: #434B5C;\n",
              "      box-shadow: 0px 1px 3px 1px rgba(0, 0, 0, 0.15);\n",
              "      filter: drop-shadow(0px 1px 2px rgba(0, 0, 0, 0.3));\n",
              "      fill: #FFFFFF;\n",
              "    }\n",
              "  </style>\n",
              "\n",
              "      <script>\n",
              "        const buttonEl =\n",
              "          document.querySelector('#df-27dd6918-56f5-4c13-9f1b-c8a40e555324 button.colab-df-convert');\n",
              "        buttonEl.style.display =\n",
              "          google.colab.kernel.accessAllowed ? 'block' : 'none';\n",
              "\n",
              "        async function convertToInteractive(key) {\n",
              "          const element = document.querySelector('#df-27dd6918-56f5-4c13-9f1b-c8a40e555324');\n",
              "          const dataTable =\n",
              "            await google.colab.kernel.invokeFunction('convertToInteractive',\n",
              "                                                     [key], {});\n",
              "          if (!dataTable) return;\n",
              "\n",
              "          const docLinkHtml = 'Like what you see? Visit the ' +\n",
              "            '<a target=\"_blank\" href=https://colab.research.google.com/notebooks/data_table.ipynb>data table notebook</a>'\n",
              "            + ' to learn more about interactive tables.';\n",
              "          element.innerHTML = '';\n",
              "          dataTable['output_type'] = 'display_data';\n",
              "          await google.colab.output.renderOutput(dataTable, element);\n",
              "          const docLink = document.createElement('div');\n",
              "          docLink.innerHTML = docLinkHtml;\n",
              "          element.appendChild(docLink);\n",
              "        }\n",
              "      </script>\n",
              "    </div>\n",
              "  </div>\n",
              "  "
            ]
          },
          "metadata": {},
          "execution_count": 301
        }
      ]
    },
    {
      "cell_type": "markdown",
      "source": [
        "This Attribute Class Helps to find the probability of all unique values in an attribute"
      ],
      "metadata": {
        "id": "oYGKEVfAUsuc"
      }
    },
    {
      "cell_type": "code",
      "source": [
        "class Attribute:\n",
        "  def __init__(self,attribute,classattr,name):\n",
        "    self.values={}\n",
        "    self.attribute=attribute\n",
        "    self.classattr=classattr\n",
        "    self.name=name\n",
        "  def print(self):\n",
        "    for i,j in self.values.items():\n",
        "      print(i,j)\n",
        "  def Probability(self):\n",
        "    #Getting the unique values in the class attribute(last attribute)\n",
        "    z,counts=np.unique(self.attribute,return_counts=\"True\")\n",
        "    #Getting the unique values of the given attribute\n",
        "    y,counts2=np.unique(self.classattr,return_counts=\"True\")\n",
        "    for i in z:\n",
        "      list1=[]\n",
        "      for j in range(len(y)):\n",
        "        count=0\n",
        "        for k in range(len(self.classattr)):\n",
        "          if(self.classattr[k]==y[j] and self.attribute[k]==i):\n",
        "            count=count+1\n",
        "        list1.append(count/counts2[j])\n",
        "      self.values[i]=list1"
      ],
      "metadata": {
        "id": "Eykt-SqkZASO"
      },
      "execution_count": 303,
      "outputs": []
    },
    {
      "cell_type": "markdown",
      "source": [
        "This Naive Bayes class is used to calculate the probablities of all unique values in all attributes by calling the Attribute class"
      ],
      "metadata": {
        "id": "Dsd7tVAPWNqi"
      }
    },
    {
      "cell_type": "code",
      "source": [
        "class Naive_bayes:\n",
        "  def __init__(self,x):\n",
        "    self.dataframe=x\n",
        "    self.attrbiuteobjects=[]\n",
        "    self.uniqueclass=[]\n",
        "    self.count=[]\n",
        "  def ProbabilityCalculation(self):\n",
        "    classcol=x.iloc[:,-1]\n",
        "    self.uniqueclass,self.count=np.unique(classcol,return_counts=\"True\")\n",
        "    data=x.iloc[:, :-1]\n",
        "    for i in data:\n",
        "      col=x.loc[:,i]\n",
        "      #Creating an object of Attribute class with an attribute\n",
        "      obj=Attribute(col,classcol,i)\n",
        "      #Calling the Probability function of attribute class to calculate probability\n",
        "      obj.Probability()\n",
        "      #Appending the object addresses to access later\n",
        "      self.attrbiuteobjects.append(obj)\n",
        "  def PrintProb(self):\n",
        "    print(self.uniqueclass)\n",
        "    for i in self.attrbiuteobjects:\n",
        "      print(\"probabbilities of each attribute :\")\n",
        "      i.print()\n",
        "  #This Testing function is used to estimate the probabilities of class attributes for a new example\n",
        "  def Testing(self,textexample):\n",
        "    totalsum=sum(self.count)\n",
        "    print(textexample)\n",
        "    totalprob=[]\n",
        "    #appending the probalities of class values(i.e yes ,no ,etc...)\n",
        "    for i in  range(len(self.uniqueclass)):\n",
        "      totalprob.append(self.count[i]/totalsum)\n",
        "    for i in range(len(textexample)):\n",
        "      rand=1\n",
        "      for j in range(len(self.uniqueclass)):\n",
        "        #Multiplying the probability of each attribute\n",
        "        totalprob[j]=totalprob[j]*self.attrbiuteobjects[i].values[textexample[i]][j]\n",
        "    totalsum=sum(totalprob)\n",
        "    for i in range(len(totalprob)):\n",
        "      print(\"The Probability of\",self.uniqueclass[i],\"is :\",totalprob[i]/totalsum)\n"
      ],
      "metadata": {
        "id": "RIqC_zAYU1zD"
      },
      "execution_count": 306,
      "outputs": []
    },
    {
      "cell_type": "code",
      "source": [
        "w=Naive_bayes(x)\n",
        "w.ProbabilityCalculation()\n",
        "w.PrintProb()\n"
      ],
      "metadata": {
        "colab": {
          "base_uri": "https://localhost:8080/"
        },
        "id": "t1YHEQHcl62m",
        "outputId": "b494cc4b-7916-4c56-ac9e-7ccb9cfad350"
      },
      "execution_count": 304,
      "outputs": [
        {
          "output_type": "stream",
          "name": "stdout",
          "text": [
            "['No' 'Yes']\n",
            "probabbilities of each attribute :\n",
            "Overcast [0.0, 0.4444444444444444]\n",
            "Rain [0.4, 0.3333333333333333]\n",
            "Sunny [0.6, 0.2222222222222222]\n",
            "probabbilities of each attribute :\n",
            "Cool [0.2, 0.3333333333333333]\n",
            "Hot [0.4, 0.2222222222222222]\n",
            "Mild [0.4, 0.4444444444444444]\n",
            "probabbilities of each attribute :\n",
            "High [0.8, 0.3333333333333333]\n",
            "Normal [0.2, 0.6666666666666666]\n",
            "probabbilities of each attribute :\n",
            "Strong [0.6, 0.3333333333333333]\n",
            "Weak [0.4, 0.6666666666666666]\n"
          ]
        }
      ]
    },
    {
      "cell_type": "code",
      "source": [
        "test=['Sunny','Cool','High','Strong']\n",
        "w.Testing(test)"
      ],
      "metadata": {
        "colab": {
          "base_uri": "https://localhost:8080/"
        },
        "id": "RhUDHneCwes4",
        "outputId": "bd79319f-4573-46a1-9a4d-29d2a1e59a9e"
      },
      "execution_count": 305,
      "outputs": [
        {
          "output_type": "stream",
          "name": "stdout",
          "text": [
            "['Sunny', 'Cool', 'High', 'Strong']\n",
            "The Probability of No is : 0.795417348608838\n",
            "The Probability of Yes is : 0.20458265139116202\n"
          ]
        }
      ]
    }
  ]
}